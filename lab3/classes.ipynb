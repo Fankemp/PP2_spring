{
 "cells": [
  {
   "cell_type": "code",
   "execution_count": null,
   "metadata": {},
   "outputs": [],
   "source": [
    "#TASK 1\n",
    "class StringMethod:\n",
    "    def __init__(self):\n",
    "        self.string = \"\"\n",
    "\n",
    "    def getString(self):\n",
    "        self.string = input(\"Write a string: \")\n",
    "\n",
    "    def printString(self):\n",
    "        print(self.string.upper())\n",
    "\n",
    "\n",
    "s = StringMethod()\n",
    "s.getString()   \n",
    "s.printString() "
   ]
  },
  {
   "cell_type": "code",
   "execution_count": 7,
   "metadata": {},
   "outputs": [
    {
     "name": "stdout",
     "output_type": "stream",
     "text": [
      "16\n",
      "15\n"
     ]
    }
   ],
   "source": [
    "#TASK 2\n",
    "class Shape:\n",
    "    def area(self):\n",
    "        return 0\n",
    "\n",
    "class Square(Shape):\n",
    "    def __init__(self, length):\n",
    "        self.length = length\n",
    "    def area(self):\n",
    "        return self.length ** 2\n",
    "\n",
    "square = Square(4)\n",
    "print(square.area())\n",
    "\n",
    "#TASK 3\n",
    "\n",
    "class Rectangle(Shape):\n",
    "    def __init__(self, length, width):\n",
    "        self.length = length\n",
    "        self.width = width\n",
    "\n",
    "    def area(self):\n",
    "        return self.length * self.width\n",
    "\n",
    "rectangle = Rectangle(5, 3)\n",
    "print(rectangle.area())\n"
   ]
  },
  {
   "cell_type": "code",
   "execution_count": 5,
   "metadata": {},
   "outputs": [
    {
     "name": "stdout",
     "output_type": "stream",
     "text": [
      "Point coordinates: (0, 0)\n",
      "Point coordinates: (1, 1)\n",
      "3.605551275463989\n"
     ]
    }
   ],
   "source": [
    "# TASK 4\n",
    "import math\n",
    "\n",
    "class Point:\n",
    "    def __init__(self, x=0, y=0):\n",
    "        self.x = x\n",
    "        self.y = y\n",
    "    \n",
    "    def show(self):\n",
    "        print(f\"Point coordinates: ({self.x}, {self.y})\")\n",
    "\n",
    "    def move(self, dx, dy):\n",
    "        self.x += dx\n",
    "        self.y += dy\n",
    "    def dist(self, other):\n",
    "        return math.sqrt((self.x - other.x)**2 + (self.y - other.y)**2)\n",
    "    \n",
    "p1 = Point(0, 0)\n",
    "p2 = Point(3, 4)\n",
    "\n",
    "p1.show()               \n",
    "p1.move(1, 1)\n",
    "p1.show()    \n",
    "\n",
    "distance = p1.dist(p2)\n",
    "print(distance) "
   ]
  },
  {
   "cell_type": "code",
   "execution_count": 4,
   "metadata": {},
   "outputs": [
    {
     "name": "stdout",
     "output_type": "stream",
     "text": [
      "Deposit:  150\n",
      "Withdraw 70, New balance 80\n",
      "Not enough money\n"
     ]
    }
   ],
   "source": [
    "#TASK5\n",
    "\n",
    "class Account:\n",
    "    def __init__(self, owner, balance=0):\n",
    "        self.owner = owner\n",
    "        self.balance = balance\n",
    "    \n",
    "    def deposit(self, amount):\n",
    "        self.balance += amount\n",
    "        print(\"Deposit: \", self.balance)\n",
    "    def withdraw(self, amount):\n",
    "        if amount <= self.balance:\n",
    "            self.balance -= amount\n",
    "            print(f\"Withdraw {amount}, New balance {self.balance}\")\n",
    "        else:\n",
    "            print(\"Not enough money\")\n",
    "\n",
    "\n",
    "acc = Account(\"Alice\", 100)\n",
    "acc.deposit(50)         \n",
    "acc.withdraw(70)     \n",
    "acc.withdraw(200)"
   ]
  },
  {
   "cell_type": "code",
   "execution_count": 1,
   "metadata": {},
   "outputs": [
    {
     "name": "stdout",
     "output_type": "stream",
     "text": [
      "[2, 3, 5, 7, 11, 13]\n"
     ]
    }
   ],
   "source": [
    "#TASK6\n",
    "\n",
    "def Isprime(x):\n",
    "    if x < 2:\n",
    "        return False\n",
    "    \n",
    "    for i in range(2, int(x**0.5)+ 1):\n",
    "        if x % i == 0:\n",
    "            return False\n",
    "    return True\n",
    "\n",
    "numbers = [1, 2, 3, 4, 5, 6, 7, 8, 9, 10, 11, 12, 13, 14 ,15 ,16]\n",
    "prime_numbers = list(filter(lambda x: Isprime(x), numbers))\n",
    "print(prime_numbers)"
   ]
  }
 ],
 "metadata": {
  "kernelspec": {
   "display_name": "Python 3",
   "language": "python",
   "name": "python3"
  },
  "language_info": {
   "codemirror_mode": {
    "name": "ipython",
    "version": 3
   },
   "file_extension": ".py",
   "mimetype": "text/x-python",
   "name": "python",
   "nbconvert_exporter": "python",
   "pygments_lexer": "ipython3",
   "version": "3.13.0"
  }
 },
 "nbformat": 4,
 "nbformat_minor": 2
}
